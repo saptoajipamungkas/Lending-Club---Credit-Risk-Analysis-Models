{
 "cells": [
  {
   "cell_type": "code",
   "execution_count": 1,
   "metadata": {
    "ExecuteTime": {
     "end_time": "2020-03-30T15:50:25.523608Z",
     "start_time": "2020-03-30T15:50:23.269392Z"
    }
   },
   "outputs": [],
   "source": [
    "import pandas as pd\n",
    "import numpy as np\n",
    "import seaborn as sns\n",
    "import matplotlib.pyplot as plt\n",
    "import datetime as dt\n",
    "from jupyterthemes import jtplot\n",
    "%matplotlib inline\n",
    "jtplot.style()"
   ]
  },
  {
   "cell_type": "code",
   "execution_count": 2,
   "metadata": {
    "ExecuteTime": {
     "end_time": "2020-03-30T15:50:33.244367Z",
     "start_time": "2020-03-30T15:50:25.667630Z"
    }
   },
   "outputs": [],
   "source": [
    "df_cleancoll = pd.read_csv('cleanVIF_loan_test4.csv')"
   ]
  },
  {
   "cell_type": "code",
   "execution_count": 3,
   "metadata": {
    "ExecuteTime": {
     "end_time": "2020-03-30T15:50:54.978979Z",
     "start_time": "2020-03-30T15:50:54.942078Z"
    }
   },
   "outputs": [
    {
     "data": {
      "text/html": [
       "<div>\n",
       "<style scoped>\n",
       "    .dataframe tbody tr th:only-of-type {\n",
       "        vertical-align: middle;\n",
       "    }\n",
       "\n",
       "    .dataframe tbody tr th {\n",
       "        vertical-align: top;\n",
       "    }\n",
       "\n",
       "    .dataframe thead th {\n",
       "        text-align: right;\n",
       "    }\n",
       "</style>\n",
       "<table border=\"1\" class=\"dataframe\">\n",
       "  <thead>\n",
       "    <tr style=\"text-align: right;\">\n",
       "      <th></th>\n",
       "      <th>sub_grade_A1</th>\n",
       "      <th>sub_grade_A2</th>\n",
       "      <th>sub_grade_A3</th>\n",
       "      <th>sub_grade_A4</th>\n",
       "      <th>sub_grade_A5</th>\n",
       "      <th>sub_grade_B1</th>\n",
       "      <th>sub_grade_B2</th>\n",
       "      <th>sub_grade_B3</th>\n",
       "      <th>sub_grade_B4</th>\n",
       "      <th>sub_grade_B5</th>\n",
       "      <th>...</th>\n",
       "      <th>mths_since_last_record</th>\n",
       "      <th>pub_rec</th>\n",
       "      <th>revol_bal</th>\n",
       "      <th>collection_recovery_fee</th>\n",
       "      <th>last_pymnt_amnt</th>\n",
       "      <th>collections_12_mths_ex_med</th>\n",
       "      <th>tot_coll_amt</th>\n",
       "      <th>tot_cur_bal</th>\n",
       "      <th>total_rev_hi_lim</th>\n",
       "      <th>flag_bad_loan</th>\n",
       "    </tr>\n",
       "  </thead>\n",
       "  <tbody>\n",
       "    <tr>\n",
       "      <td>0</td>\n",
       "      <td>0</td>\n",
       "      <td>0</td>\n",
       "      <td>0</td>\n",
       "      <td>0</td>\n",
       "      <td>0</td>\n",
       "      <td>0</td>\n",
       "      <td>1</td>\n",
       "      <td>0</td>\n",
       "      <td>0</td>\n",
       "      <td>0</td>\n",
       "      <td>...</td>\n",
       "      <td>0.0</td>\n",
       "      <td>0.0</td>\n",
       "      <td>36638.0</td>\n",
       "      <td>0.0</td>\n",
       "      <td>885.46</td>\n",
       "      <td>0.0</td>\n",
       "      <td>0.0</td>\n",
       "      <td>114834.0</td>\n",
       "      <td>59900.0</td>\n",
       "      <td>0</td>\n",
       "    </tr>\n",
       "    <tr>\n",
       "      <td>1</td>\n",
       "      <td>0</td>\n",
       "      <td>0</td>\n",
       "      <td>0</td>\n",
       "      <td>0</td>\n",
       "      <td>0</td>\n",
       "      <td>0</td>\n",
       "      <td>0</td>\n",
       "      <td>0</td>\n",
       "      <td>0</td>\n",
       "      <td>0</td>\n",
       "      <td>...</td>\n",
       "      <td>0.0</td>\n",
       "      <td>0.0</td>\n",
       "      <td>7967.0</td>\n",
       "      <td>0.0</td>\n",
       "      <td>333.14</td>\n",
       "      <td>0.0</td>\n",
       "      <td>0.0</td>\n",
       "      <td>14123.0</td>\n",
       "      <td>15100.0</td>\n",
       "      <td>0</td>\n",
       "    </tr>\n",
       "    <tr>\n",
       "      <td>2</td>\n",
       "      <td>0</td>\n",
       "      <td>1</td>\n",
       "      <td>0</td>\n",
       "      <td>0</td>\n",
       "      <td>0</td>\n",
       "      <td>0</td>\n",
       "      <td>0</td>\n",
       "      <td>0</td>\n",
       "      <td>0</td>\n",
       "      <td>0</td>\n",
       "      <td>...</td>\n",
       "      <td>0.0</td>\n",
       "      <td>0.0</td>\n",
       "      <td>13168.0</td>\n",
       "      <td>0.0</td>\n",
       "      <td>368.45</td>\n",
       "      <td>0.0</td>\n",
       "      <td>0.0</td>\n",
       "      <td>267646.0</td>\n",
       "      <td>61100.0</td>\n",
       "      <td>0</td>\n",
       "    </tr>\n",
       "    <tr>\n",
       "      <td>3</td>\n",
       "      <td>0</td>\n",
       "      <td>0</td>\n",
       "      <td>0</td>\n",
       "      <td>0</td>\n",
       "      <td>0</td>\n",
       "      <td>0</td>\n",
       "      <td>0</td>\n",
       "      <td>0</td>\n",
       "      <td>0</td>\n",
       "      <td>1</td>\n",
       "      <td>...</td>\n",
       "      <td>33.0</td>\n",
       "      <td>2.0</td>\n",
       "      <td>5572.0</td>\n",
       "      <td>0.0</td>\n",
       "      <td>119.17</td>\n",
       "      <td>0.0</td>\n",
       "      <td>15386.0</td>\n",
       "      <td>13605.0</td>\n",
       "      <td>8100.0</td>\n",
       "      <td>0</td>\n",
       "    </tr>\n",
       "    <tr>\n",
       "      <td>4</td>\n",
       "      <td>0</td>\n",
       "      <td>0</td>\n",
       "      <td>0</td>\n",
       "      <td>0</td>\n",
       "      <td>1</td>\n",
       "      <td>0</td>\n",
       "      <td>0</td>\n",
       "      <td>0</td>\n",
       "      <td>0</td>\n",
       "      <td>0</td>\n",
       "      <td>...</td>\n",
       "      <td>0.0</td>\n",
       "      <td>0.0</td>\n",
       "      <td>11431.0</td>\n",
       "      <td>0.0</td>\n",
       "      <td>476.30</td>\n",
       "      <td>0.0</td>\n",
       "      <td>1514.0</td>\n",
       "      <td>272492.0</td>\n",
       "      <td>15400.0</td>\n",
       "      <td>0</td>\n",
       "    </tr>\n",
       "  </tbody>\n",
       "</table>\n",
       "<p>5 rows × 152 columns</p>\n",
       "</div>"
      ],
      "text/plain": [
       "   sub_grade_A1  sub_grade_A2  sub_grade_A3  sub_grade_A4  sub_grade_A5  \\\n",
       "0             0             0             0             0             0   \n",
       "1             0             0             0             0             0   \n",
       "2             0             1             0             0             0   \n",
       "3             0             0             0             0             0   \n",
       "4             0             0             0             0             1   \n",
       "\n",
       "   sub_grade_B1  sub_grade_B2  sub_grade_B3  sub_grade_B4  sub_grade_B5  ...  \\\n",
       "0             0             1             0             0             0  ...   \n",
       "1             0             0             0             0             0  ...   \n",
       "2             0             0             0             0             0  ...   \n",
       "3             0             0             0             0             1  ...   \n",
       "4             0             0             0             0             0  ...   \n",
       "\n",
       "   mths_since_last_record  pub_rec  revol_bal  collection_recovery_fee  \\\n",
       "0                     0.0      0.0    36638.0                      0.0   \n",
       "1                     0.0      0.0     7967.0                      0.0   \n",
       "2                     0.0      0.0    13168.0                      0.0   \n",
       "3                    33.0      2.0     5572.0                      0.0   \n",
       "4                     0.0      0.0    11431.0                      0.0   \n",
       "\n",
       "   last_pymnt_amnt  collections_12_mths_ex_med  tot_coll_amt  tot_cur_bal  \\\n",
       "0           885.46                         0.0           0.0     114834.0   \n",
       "1           333.14                         0.0           0.0      14123.0   \n",
       "2           368.45                         0.0           0.0     267646.0   \n",
       "3           119.17                         0.0       15386.0      13605.0   \n",
       "4           476.30                         0.0        1514.0     272492.0   \n",
       "\n",
       "   total_rev_hi_lim  flag_bad_loan  \n",
       "0           59900.0              0  \n",
       "1           15100.0              0  \n",
       "2           61100.0              0  \n",
       "3            8100.0              0  \n",
       "4           15400.0              0  \n",
       "\n",
       "[5 rows x 152 columns]"
      ]
     },
     "execution_count": 3,
     "metadata": {},
     "output_type": "execute_result"
    }
   ],
   "source": [
    "df_cleancoll.head()"
   ]
  },
  {
   "cell_type": "code",
   "execution_count": 4,
   "metadata": {
    "ExecuteTime": {
     "end_time": "2020-03-30T15:51:00.088323Z",
     "start_time": "2020-03-30T15:50:55.842671Z"
    }
   },
   "outputs": [
    {
     "data": {
      "text/html": [
       "<div>\n",
       "<style scoped>\n",
       "    .dataframe tbody tr th:only-of-type {\n",
       "        vertical-align: middle;\n",
       "    }\n",
       "\n",
       "    .dataframe tbody tr th {\n",
       "        vertical-align: top;\n",
       "    }\n",
       "\n",
       "    .dataframe thead th {\n",
       "        text-align: right;\n",
       "    }\n",
       "</style>\n",
       "<table border=\"1\" class=\"dataframe\">\n",
       "  <thead>\n",
       "    <tr style=\"text-align: right;\">\n",
       "      <th></th>\n",
       "      <th>dataFeatures</th>\n",
       "      <th>dataLength</th>\n",
       "      <th>dataType</th>\n",
       "      <th>null</th>\n",
       "      <th>nullPct</th>\n",
       "      <th>unique</th>\n",
       "      <th>uniqueSample</th>\n",
       "    </tr>\n",
       "  </thead>\n",
       "  <tbody>\n",
       "    <tr>\n",
       "      <td>0</td>\n",
       "      <td>sub_grade_A1</td>\n",
       "      <td>816592</td>\n",
       "      <td>int64</td>\n",
       "      <td>0</td>\n",
       "      <td>0.0</td>\n",
       "      <td>2</td>\n",
       "      <td>[0, 1]</td>\n",
       "    </tr>\n",
       "    <tr>\n",
       "      <td>1</td>\n",
       "      <td>sub_grade_A2</td>\n",
       "      <td>816592</td>\n",
       "      <td>int64</td>\n",
       "      <td>0</td>\n",
       "      <td>0.0</td>\n",
       "      <td>2</td>\n",
       "      <td>[0, 1]</td>\n",
       "    </tr>\n",
       "    <tr>\n",
       "      <td>2</td>\n",
       "      <td>sub_grade_A3</td>\n",
       "      <td>816592</td>\n",
       "      <td>int64</td>\n",
       "      <td>0</td>\n",
       "      <td>0.0</td>\n",
       "      <td>2</td>\n",
       "      <td>[0, 0]</td>\n",
       "    </tr>\n",
       "    <tr>\n",
       "      <td>3</td>\n",
       "      <td>sub_grade_A4</td>\n",
       "      <td>816592</td>\n",
       "      <td>int64</td>\n",
       "      <td>0</td>\n",
       "      <td>0.0</td>\n",
       "      <td>2</td>\n",
       "      <td>[0, 0]</td>\n",
       "    </tr>\n",
       "    <tr>\n",
       "      <td>4</td>\n",
       "      <td>sub_grade_A5</td>\n",
       "      <td>816592</td>\n",
       "      <td>int64</td>\n",
       "      <td>0</td>\n",
       "      <td>0.0</td>\n",
       "      <td>2</td>\n",
       "      <td>[1, 1]</td>\n",
       "    </tr>\n",
       "    <tr>\n",
       "      <td>...</td>\n",
       "      <td>...</td>\n",
       "      <td>...</td>\n",
       "      <td>...</td>\n",
       "      <td>...</td>\n",
       "      <td>...</td>\n",
       "      <td>...</td>\n",
       "      <td>...</td>\n",
       "    </tr>\n",
       "    <tr>\n",
       "      <td>147</td>\n",
       "      <td>collections_12_mths_ex_med</td>\n",
       "      <td>816592</td>\n",
       "      <td>float64</td>\n",
       "      <td>0</td>\n",
       "      <td>0.0</td>\n",
       "      <td>12</td>\n",
       "      <td>[16.0, 7.0]</td>\n",
       "    </tr>\n",
       "    <tr>\n",
       "      <td>148</td>\n",
       "      <td>tot_coll_amt</td>\n",
       "      <td>816592</td>\n",
       "      <td>float64</td>\n",
       "      <td>0</td>\n",
       "      <td>0.0</td>\n",
       "      <td>10321</td>\n",
       "      <td>[24562.0, 1892.0]</td>\n",
       "    </tr>\n",
       "    <tr>\n",
       "      <td>149</td>\n",
       "      <td>tot_cur_bal</td>\n",
       "      <td>816592</td>\n",
       "      <td>float64</td>\n",
       "      <td>0</td>\n",
       "      <td>0.0</td>\n",
       "      <td>327230</td>\n",
       "      <td>[58795.0, 121410.0]</td>\n",
       "    </tr>\n",
       "    <tr>\n",
       "      <td>150</td>\n",
       "      <td>total_rev_hi_lim</td>\n",
       "      <td>816592</td>\n",
       "      <td>float64</td>\n",
       "      <td>0</td>\n",
       "      <td>0.0</td>\n",
       "      <td>21249</td>\n",
       "      <td>[45902.0, 88958.0]</td>\n",
       "    </tr>\n",
       "    <tr>\n",
       "      <td>151</td>\n",
       "      <td>flag_bad_loan</td>\n",
       "      <td>816592</td>\n",
       "      <td>int64</td>\n",
       "      <td>0</td>\n",
       "      <td>0.0</td>\n",
       "      <td>2</td>\n",
       "      <td>[1, 1]</td>\n",
       "    </tr>\n",
       "  </tbody>\n",
       "</table>\n",
       "<p>152 rows × 7 columns</p>\n",
       "</div>"
      ],
      "text/plain": [
       "                   dataFeatures  dataLength dataType  null  nullPct  unique  \\\n",
       "0                  sub_grade_A1      816592    int64     0      0.0       2   \n",
       "1                  sub_grade_A2      816592    int64     0      0.0       2   \n",
       "2                  sub_grade_A3      816592    int64     0      0.0       2   \n",
       "3                  sub_grade_A4      816592    int64     0      0.0       2   \n",
       "4                  sub_grade_A5      816592    int64     0      0.0       2   \n",
       "..                          ...         ...      ...   ...      ...     ...   \n",
       "147  collections_12_mths_ex_med      816592  float64     0      0.0      12   \n",
       "148                tot_coll_amt      816592  float64     0      0.0   10321   \n",
       "149                 tot_cur_bal      816592  float64     0      0.0  327230   \n",
       "150            total_rev_hi_lim      816592  float64     0      0.0   21249   \n",
       "151               flag_bad_loan      816592    int64     0      0.0       2   \n",
       "\n",
       "            uniqueSample  \n",
       "0                 [0, 1]  \n",
       "1                 [0, 1]  \n",
       "2                 [0, 0]  \n",
       "3                 [0, 0]  \n",
       "4                 [1, 1]  \n",
       "..                   ...  \n",
       "147          [16.0, 7.0]  \n",
       "148    [24562.0, 1892.0]  \n",
       "149  [58795.0, 121410.0]  \n",
       "150   [45902.0, 88958.0]  \n",
       "151               [1, 1]  \n",
       "\n",
       "[152 rows x 7 columns]"
      ]
     },
     "execution_count": 4,
     "metadata": {},
     "output_type": "execute_result"
    }
   ],
   "source": [
    "df_cleancollDesc=[]\n",
    "for i in df_cleancoll.columns:\n",
    "    df_cleancollDesc.append([i,len(df_cleancoll[i]),\n",
    "                     df_cleancoll[i].dtypes,\n",
    "                     df_cleancoll[i].isna().sum(),\n",
    "                     round((((df_cleancoll[i].isna().sum())/(len(df_cleancoll)))*100),2),\n",
    "                     df_cleancoll[i].nunique(),\n",
    "                     df_cleancoll[i].drop_duplicates().sample(2, replace=True).values])\n",
    "pd.DataFrame(df_cleancollDesc, columns=['dataFeatures', 'dataLength','dataType', 'null', 'nullPct', 'unique','uniqueSample'])"
   ]
  },
  {
   "cell_type": "markdown",
   "metadata": {},
   "source": [
    "## 5. MODELLING"
   ]
  },
  {
   "cell_type": "markdown",
   "metadata": {},
   "source": [
    "#### Train Test Split"
   ]
  },
  {
   "cell_type": "code",
   "execution_count": 5,
   "metadata": {
    "ExecuteTime": {
     "end_time": "2020-03-30T15:51:00.223959Z",
     "start_time": "2020-03-30T15:51:00.091315Z"
    }
   },
   "outputs": [],
   "source": [
    "from sklearn.model_selection import train_test_split"
   ]
  },
  {
   "cell_type": "code",
   "execution_count": 6,
   "metadata": {
    "ExecuteTime": {
     "end_time": "2020-03-30T15:51:00.853278Z",
     "start_time": "2020-03-30T15:51:00.226952Z"
    }
   },
   "outputs": [],
   "source": [
    "X = df_cleancoll.drop('flag_bad_loan',axis=1)\n",
    "y = df_cleancoll['flag_bad_loan']"
   ]
  },
  {
   "cell_type": "code",
   "execution_count": 7,
   "metadata": {
    "ExecuteTime": {
     "end_time": "2020-03-30T15:51:02.661474Z",
     "start_time": "2020-03-30T15:51:00.856271Z"
    }
   },
   "outputs": [],
   "source": [
    "X_train, X_test, y_train, y_test = train_test_split(X, y, test_size=0.30, random_state=101)"
   ]
  },
  {
   "cell_type": "code",
   "execution_count": 8,
   "metadata": {
    "ExecuteTime": {
     "end_time": "2020-03-30T15:51:03.323674Z",
     "start_time": "2020-03-30T15:51:02.663437Z"
    }
   },
   "outputs": [],
   "source": [
    "data = df_cleancoll.drop('flag_bad_loan', axis =1)\n",
    "target = df_cleancoll['flag_bad_loan']"
   ]
  },
  {
   "cell_type": "markdown",
   "metadata": {},
   "source": [
    "#### Random Forest Classifier"
   ]
  },
  {
   "cell_type": "markdown",
   "metadata": {},
   "source": [
    "Normal X_train"
   ]
  },
  {
   "cell_type": "code",
   "execution_count": 9,
   "metadata": {
    "ExecuteTime": {
     "end_time": "2020-03-30T15:57:16.244227Z",
     "start_time": "2020-03-30T15:51:03.427396Z"
    }
   },
   "outputs": [
    {
     "data": {
      "text/plain": [
       "RandomForestClassifier(bootstrap=True, ccp_alpha=0.0, class_weight=None,\n",
       "                       criterion='gini', max_depth=None, max_features='auto',\n",
       "                       max_leaf_nodes=None, max_samples=None,\n",
       "                       min_impurity_decrease=0.0, min_impurity_split=None,\n",
       "                       min_samples_leaf=1, min_samples_split=2,\n",
       "                       min_weight_fraction_leaf=0.0, n_estimators=100,\n",
       "                       n_jobs=None, oob_score=False, random_state=None,\n",
       "                       verbose=0, warm_start=False)"
      ]
     },
     "execution_count": 9,
     "metadata": {},
     "output_type": "execute_result"
    }
   ],
   "source": [
    "from sklearn.ensemble import RandomForestClassifier\n",
    "rfc = RandomForestClassifier()\n",
    "rfc.fit(X_train, y_train)"
   ]
  },
  {
   "cell_type": "code",
   "execution_count": 10,
   "metadata": {
    "ExecuteTime": {
     "end_time": "2020-03-30T12:52:22.700056Z",
     "start_time": "2020-03-30T12:51:18.593689Z"
    }
   },
   "outputs": [],
   "source": [
    "rfc_pred_train = rfc.predict(X_train)\n",
    "rfc_pred_test = rfc.predict(X_test)"
   ]
  },
  {
   "cell_type": "code",
   "execution_count": 11,
   "metadata": {
    "ExecuteTime": {
     "end_time": "2020-03-30T12:52:24.681186Z",
     "start_time": "2020-03-30T12:52:22.705045Z"
    }
   },
   "outputs": [
    {
     "name": "stdout",
     "output_type": "stream",
     "text": [
      "              precision    recall  f1-score   support\n",
      "\n",
      "           0       1.00      1.00      1.00    538461\n",
      "           1       1.00      1.00      1.00     33153\n",
      "\n",
      "    accuracy                           1.00    571614\n",
      "   macro avg       1.00      1.00      1.00    571614\n",
      "weighted avg       1.00      1.00      1.00    571614\n",
      "\n"
     ]
    }
   ],
   "source": [
    "from sklearn.metrics import classification_report, confusion_matrix\n",
    "print(classification_report(y_train,rfc_pred_train))"
   ]
  },
  {
   "cell_type": "code",
   "execution_count": 12,
   "metadata": {
    "ExecuteTime": {
     "end_time": "2020-03-30T12:52:25.449474Z",
     "start_time": "2020-03-30T12:52:24.685313Z"
    }
   },
   "outputs": [
    {
     "name": "stdout",
     "output_type": "stream",
     "text": [
      "              precision    recall  f1-score   support\n",
      "\n",
      "           0       0.97      1.00      0.99    230233\n",
      "           1       0.98      0.55      0.70     14745\n",
      "\n",
      "    accuracy                           0.97    244978\n",
      "   macro avg       0.98      0.77      0.84    244978\n",
      "weighted avg       0.97      0.97      0.97    244978\n",
      "\n"
     ]
    }
   ],
   "source": [
    "print(classification_report(y_test,rfc_pred_test))"
   ]
  },
  {
   "cell_type": "markdown",
   "metadata": {},
   "source": [
    "oversampled X_train"
   ]
  },
  {
   "cell_type": "code",
   "execution_count": 13,
   "metadata": {
    "ExecuteTime": {
     "end_time": "2020-03-30T12:53:00.908241Z",
     "start_time": "2020-03-30T12:52:25.454889Z"
    }
   },
   "outputs": [],
   "source": [
    "from imblearn.over_sampling import SMOTE\n",
    "sm = SMOTE(sampling_strategy='minority')\n",
    "\n",
    "oversampled_trainX, oversampled_trainY = sm.fit_sample(X_train, y_train)\n",
    "oversampled_train = pd.concat([pd.DataFrame(oversampled_trainY), pd.DataFrame(oversampled_trainX)], axis =1)"
   ]
  },
  {
   "cell_type": "code",
   "execution_count": 14,
   "metadata": {
    "ExecuteTime": {
     "end_time": "2020-03-30T13:07:28.842569Z",
     "start_time": "2020-03-30T12:53:00.941726Z"
    }
   },
   "outputs": [
    {
     "data": {
      "text/plain": [
       "RandomForestClassifier(bootstrap=True, ccp_alpha=0.0, class_weight=None,\n",
       "                       criterion='gini', max_depth=None, max_features='auto',\n",
       "                       max_leaf_nodes=None, max_samples=None,\n",
       "                       min_impurity_decrease=0.0, min_impurity_split=None,\n",
       "                       min_samples_leaf=1, min_samples_split=2,\n",
       "                       min_weight_fraction_leaf=0.0, n_estimators=100,\n",
       "                       n_jobs=None, oob_score=False, random_state=None,\n",
       "                       verbose=0, warm_start=False)"
      ]
     },
     "execution_count": 14,
     "metadata": {},
     "output_type": "execute_result"
    }
   ],
   "source": [
    "rfc_os = RandomForestClassifier()\n",
    "rfc_os.fit(oversampled_trainX, oversampled_trainY)"
   ]
  },
  {
   "cell_type": "code",
   "execution_count": 15,
   "metadata": {
    "ExecuteTime": {
     "end_time": "2020-03-30T13:08:18.460665Z",
     "start_time": "2020-03-30T13:07:28.846559Z"
    }
   },
   "outputs": [],
   "source": [
    "rfc_pred_ostrain = rfc_os.predict(oversampled_trainX)\n",
    "rfc_pred_ostest = rfc_os.predict(X_test)"
   ]
  },
  {
   "cell_type": "code",
   "execution_count": 16,
   "metadata": {
    "ExecuteTime": {
     "end_time": "2020-03-30T13:08:20.510187Z",
     "start_time": "2020-03-30T13:08:18.462661Z"
    }
   },
   "outputs": [
    {
     "name": "stdout",
     "output_type": "stream",
     "text": [
      "              precision    recall  f1-score   support\n",
      "\n",
      "           0       1.00      1.00      1.00    538461\n",
      "           1       1.00      1.00      1.00    538461\n",
      "\n",
      "    accuracy                           1.00   1076922\n",
      "   macro avg       1.00      1.00      1.00   1076922\n",
      "weighted avg       1.00      1.00      1.00   1076922\n",
      "\n"
     ]
    }
   ],
   "source": [
    "print(classification_report(oversampled_trainY,rfc_pred_ostrain))"
   ]
  },
  {
   "cell_type": "code",
   "execution_count": 17,
   "metadata": {
    "ExecuteTime": {
     "end_time": "2020-03-30T13:08:20.971953Z",
     "start_time": "2020-03-30T13:08:20.513179Z"
    }
   },
   "outputs": [
    {
     "name": "stdout",
     "output_type": "stream",
     "text": [
      "              precision    recall  f1-score   support\n",
      "\n",
      "           0       0.96      1.00      0.98    230233\n",
      "           1       0.95      0.40      0.56     14745\n",
      "\n",
      "    accuracy                           0.96    244978\n",
      "   macro avg       0.96      0.70      0.77    244978\n",
      "weighted avg       0.96      0.96      0.96    244978\n",
      "\n"
     ]
    }
   ],
   "source": [
    "print(classification_report(y_test,rfc_pred_ostest))"
   ]
  },
  {
   "cell_type": "markdown",
   "metadata": {},
   "source": [
    "## 6. MODEL DIAGNOSTIC/EVALUATION"
   ]
  },
  {
   "cell_type": "markdown",
   "metadata": {},
   "source": [
    "### Randomized Search CV"
   ]
  },
  {
   "cell_type": "markdown",
   "metadata": {},
   "source": [
    "Normal X_train"
   ]
  },
  {
   "cell_type": "code",
   "execution_count": 18,
   "metadata": {
    "ExecuteTime": {
     "end_time": "2020-03-30T13:08:20.991901Z",
     "start_time": "2020-03-30T13:08:20.973946Z"
    }
   },
   "outputs": [],
   "source": [
    "from sklearn.model_selection import RandomizedSearchCV\n",
    "\n",
    "# Number of trees in random forest\n",
    "n_estimators = [int(x) for x in np.linspace(start=20, stop=200, num=10)]\n",
    "\n",
    "# Number of features to consider at every splot\n",
    "max_features = ['auto', 'sqrt']\n",
    "\n",
    "# Maximum number of levels in tree\n",
    "max_depth = [int(x) for x in np.linspace(10,110, num=11)]\n",
    "max_depth.append(None)\n",
    "\n",
    "# Minimum number of samples required to split a node\n",
    "min_samples_split = [int(x) for x in np.linspace(start=100, stop=1000, num=100)]\n",
    "\n",
    "# Minimum number of samples required at each leaf node\n",
    "min_samples_leaf = max_depth = [int(x) for x in np.linspace(10,110, num=11)]\n",
    "\n",
    "# Method of selecting samples for training each tree\n",
    "bootstrap = [True, False]\n",
    "\n",
    "# Create the random grid\n",
    "random_grid = {'n_estimators': n_estimators,\n",
    "               'max_features': max_features,\n",
    "               'max_depth': max_depth,\n",
    "               'min_samples_split': min_samples_split,\n",
    "               'min_samples_leaf': min_samples_leaf,\n",
    "               'bootstrap': bootstrap}\n"
   ]
  },
  {
   "cell_type": "code",
   "execution_count": 19,
   "metadata": {
    "ExecuteTime": {
     "end_time": "2020-03-30T13:08:21.005861Z",
     "start_time": "2020-03-30T13:08:20.998882Z"
    }
   },
   "outputs": [],
   "source": [
    "rf_random = RandomizedSearchCV (estimator = rfc,\n",
    "                                param_distributions = random_grid,\n",
    "                                n_iter = 5,\n",
    "                                cv = 3,\n",
    "                                n_jobs = -1,\n",
    "                                scoring = 'f1')"
   ]
  },
  {
   "cell_type": "markdown",
   "metadata": {
    "ExecuteTime": {
     "start_time": "2020-03-30T11:38:12.598Z"
    }
   },
   "source": [
    "dict_cv = {}\n",
    "best_score = []\n",
    "for i in range(3):\n",
    "    rf_random.fit(X_train, y_train)\n",
    "    dict_cv['rf_random {}'.format(i)] = rf_random.best_params_\n",
    "    best_score.append(rf_random.best_score_)"
   ]
  },
  {
   "cell_type": "markdown",
   "metadata": {
    "ExecuteTime": {
     "start_time": "2020-03-30T11:38:12.602Z"
    }
   },
   "source": [
    "dict_cv"
   ]
  },
  {
   "cell_type": "code",
   "execution_count": null,
   "metadata": {},
   "outputs": [],
   "source": []
  },
  {
   "cell_type": "markdown",
   "metadata": {},
   "source": [
    "###### Random Forest Classifier Normal Data (Hyper Parameter Alternatives 1)"
   ]
  },
  {
   "cell_type": "code",
   "execution_count": 20,
   "metadata": {
    "ExecuteTime": {
     "end_time": "2020-03-30T13:08:21.018827Z",
     "start_time": "2020-03-30T13:08:21.011845Z"
    }
   },
   "outputs": [],
   "source": [
    "rfc_1 = RandomForestClassifier(n_estimators= 20,\n",
    " min_samples_split= 590,\n",
    " min_samples_leaf= 30,\n",
    " max_features= 'auto',\n",
    " max_depth= 70,\n",
    " bootstrap= False)"
   ]
  },
  {
   "cell_type": "code",
   "execution_count": 21,
   "metadata": {
    "ExecuteTime": {
     "end_time": "2020-03-30T13:09:46.352516Z",
     "start_time": "2020-03-30T13:08:21.023814Z"
    }
   },
   "outputs": [
    {
     "data": {
      "text/plain": [
       "RandomForestClassifier(bootstrap=False, ccp_alpha=0.0, class_weight=None,\n",
       "                       criterion='gini', max_depth=70, max_features='auto',\n",
       "                       max_leaf_nodes=None, max_samples=None,\n",
       "                       min_impurity_decrease=0.0, min_impurity_split=None,\n",
       "                       min_samples_leaf=30, min_samples_split=590,\n",
       "                       min_weight_fraction_leaf=0.0, n_estimators=20,\n",
       "                       n_jobs=None, oob_score=False, random_state=None,\n",
       "                       verbose=0, warm_start=False)"
      ]
     },
     "execution_count": 21,
     "metadata": {},
     "output_type": "execute_result"
    }
   ],
   "source": [
    "rfc_1.fit(X_train, y_train)"
   ]
  },
  {
   "cell_type": "code",
   "execution_count": 22,
   "metadata": {
    "ExecuteTime": {
     "end_time": "2020-03-30T13:09:52.567928Z",
     "start_time": "2020-03-30T13:09:46.358501Z"
    }
   },
   "outputs": [],
   "source": [
    "rfc1_pred_train = rfc_1.predict(X_train)\n",
    "rfc1_pred_test = rfc_1.predict(X_test)"
   ]
  },
  {
   "cell_type": "code",
   "execution_count": 23,
   "metadata": {
    "ExecuteTime": {
     "end_time": "2020-03-30T13:09:53.552302Z",
     "start_time": "2020-03-30T13:09:52.582861Z"
    }
   },
   "outputs": [
    {
     "name": "stdout",
     "output_type": "stream",
     "text": [
      "              precision    recall  f1-score   support\n",
      "\n",
      "           0       0.97      1.00      0.99    538461\n",
      "           1       0.99      0.52      0.68     33153\n",
      "\n",
      "    accuracy                           0.97    571614\n",
      "   macro avg       0.98      0.76      0.83    571614\n",
      "weighted avg       0.97      0.97      0.97    571614\n",
      "\n"
     ]
    }
   ],
   "source": [
    "print(classification_report(y_train,rfc1_pred_train))"
   ]
  },
  {
   "cell_type": "code",
   "execution_count": 24,
   "metadata": {
    "ExecuteTime": {
     "end_time": "2020-03-30T13:09:53.978133Z",
     "start_time": "2020-03-30T13:09:53.556259Z"
    }
   },
   "outputs": [
    {
     "name": "stdout",
     "output_type": "stream",
     "text": [
      "              precision    recall  f1-score   support\n",
      "\n",
      "           0       0.97      1.00      0.98    230233\n",
      "           1       0.99      0.52      0.68     14745\n",
      "\n",
      "    accuracy                           0.97    244978\n",
      "   macro avg       0.98      0.76      0.83    244978\n",
      "weighted avg       0.97      0.97      0.97    244978\n",
      "\n"
     ]
    }
   ],
   "source": [
    "print(classification_report(y_test,rfc1_pred_test))"
   ]
  },
  {
   "cell_type": "code",
   "execution_count": null,
   "metadata": {},
   "outputs": [],
   "source": []
  },
  {
   "cell_type": "code",
   "execution_count": null,
   "metadata": {},
   "outputs": [],
   "source": []
  },
  {
   "cell_type": "markdown",
   "metadata": {
    "ExecuteTime": {
     "end_time": "2020-03-29T13:13:37.141512Z",
     "start_time": "2020-03-29T12:34:57.343Z"
    }
   },
   "source": [
    "###### Random Forest Classifier Normal Data (Hyper Parameter Alternatives 2)"
   ]
  },
  {
   "cell_type": "code",
   "execution_count": 25,
   "metadata": {
    "ExecuteTime": {
     "end_time": "2020-03-30T13:15:29.116761Z",
     "start_time": "2020-03-30T13:09:53.980126Z"
    }
   },
   "outputs": [
    {
     "data": {
      "text/plain": [
       "RandomForestClassifier(bootstrap=False, ccp_alpha=0.0, class_weight=None,\n",
       "                       criterion='gini', max_depth=80, max_features='auto',\n",
       "                       max_leaf_nodes=None, max_samples=None,\n",
       "                       min_impurity_decrease=0.0, min_impurity_split=None,\n",
       "                       min_samples_leaf=70, min_samples_split=527,\n",
       "                       min_weight_fraction_leaf=0.0, n_estimators=80,\n",
       "                       n_jobs=None, oob_score=False, random_state=None,\n",
       "                       verbose=0, warm_start=False)"
      ]
     },
     "execution_count": 25,
     "metadata": {},
     "output_type": "execute_result"
    }
   ],
   "source": [
    "rfc_2 = RandomForestClassifier(n_estimators= 80,\n",
    " min_samples_split= 527,\n",
    " min_samples_leaf= 70,\n",
    " max_features= 'auto',\n",
    " max_depth= 80,\n",
    " bootstrap= False)\n",
    "rfc_2.fit(X_train, y_train)"
   ]
  },
  {
   "cell_type": "code",
   "execution_count": 26,
   "metadata": {
    "ExecuteTime": {
     "end_time": "2020-03-30T13:15:49.166600Z",
     "start_time": "2020-03-30T13:15:29.118755Z"
    }
   },
   "outputs": [],
   "source": [
    "rfc2_pred_train = rfc_2.predict(X_train)\n",
    "rfc2_pred_test = rfc_2.predict(X_test)"
   ]
  },
  {
   "cell_type": "code",
   "execution_count": 27,
   "metadata": {
    "ExecuteTime": {
     "end_time": "2020-03-30T13:15:50.159916Z",
     "start_time": "2020-03-30T13:15:49.168567Z"
    },
    "scrolled": true
   },
   "outputs": [
    {
     "name": "stdout",
     "output_type": "stream",
     "text": [
      "              precision    recall  f1-score   support\n",
      "\n",
      "           0       0.97      1.00      0.98    538461\n",
      "           1       0.99      0.50      0.66     33153\n",
      "\n",
      "    accuracy                           0.97    571614\n",
      "   macro avg       0.98      0.75      0.82    571614\n",
      "weighted avg       0.97      0.97      0.97    571614\n",
      "\n"
     ]
    }
   ],
   "source": [
    "print(classification_report(y_train,rfc2_pred_train))"
   ]
  },
  {
   "cell_type": "code",
   "execution_count": 28,
   "metadata": {
    "ExecuteTime": {
     "end_time": "2020-03-30T13:15:50.638639Z",
     "start_time": "2020-03-30T13:15:50.161911Z"
    }
   },
   "outputs": [
    {
     "name": "stdout",
     "output_type": "stream",
     "text": [
      "              precision    recall  f1-score   support\n",
      "\n",
      "           0       0.97      1.00      0.98    230233\n",
      "           1       0.99      0.50      0.66     14745\n",
      "\n",
      "    accuracy                           0.97    244978\n",
      "   macro avg       0.98      0.75      0.82    244978\n",
      "weighted avg       0.97      0.97      0.96    244978\n",
      "\n"
     ]
    }
   ],
   "source": [
    "print(classification_report(y_test,rfc2_pred_test))"
   ]
  },
  {
   "cell_type": "code",
   "execution_count": null,
   "metadata": {},
   "outputs": [],
   "source": []
  },
  {
   "cell_type": "code",
   "execution_count": null,
   "metadata": {},
   "outputs": [],
   "source": []
  },
  {
   "cell_type": "code",
   "execution_count": null,
   "metadata": {},
   "outputs": [],
   "source": []
  },
  {
   "cell_type": "markdown",
   "metadata": {},
   "source": [
    "###### Random Forest Classifier Normal Data (Hyper Parameter Alternatives 3)"
   ]
  },
  {
   "cell_type": "code",
   "execution_count": 29,
   "metadata": {
    "ExecuteTime": {
     "end_time": "2020-03-30T13:17:03.075112Z",
     "start_time": "2020-03-30T13:15:50.641629Z"
    }
   },
   "outputs": [
    {
     "data": {
      "text/plain": [
       "RandomForestClassifier(bootstrap=True, ccp_alpha=0.0, class_weight=None,\n",
       "                       criterion='gini', max_depth=90, max_features='sqrt',\n",
       "                       max_leaf_nodes=None, max_samples=None,\n",
       "                       min_impurity_decrease=0.0, min_impurity_split=None,\n",
       "                       min_samples_leaf=10, min_samples_split=118,\n",
       "                       min_weight_fraction_leaf=0.0, n_estimators=20,\n",
       "                       n_jobs=None, oob_score=False, random_state=None,\n",
       "                       verbose=0, warm_start=False)"
      ]
     },
     "execution_count": 29,
     "metadata": {},
     "output_type": "execute_result"
    }
   ],
   "source": [
    "rfc_3 = RandomForestClassifier(n_estimators= 20,\n",
    " min_samples_split= 118,\n",
    " min_samples_leaf= 10,\n",
    " max_features= 'sqrt',\n",
    " max_depth= 90,\n",
    " bootstrap= True)\n",
    "rfc_3.fit(X_train, y_train)"
   ]
  },
  {
   "cell_type": "code",
   "execution_count": 30,
   "metadata": {
    "ExecuteTime": {
     "end_time": "2020-03-30T13:17:09.618319Z",
     "start_time": "2020-03-30T13:17:03.078103Z"
    }
   },
   "outputs": [],
   "source": [
    "rfc3_pred_train = rfc_3.predict(X_train)\n",
    "rfc3_pred_test = rfc_3.predict(X_test)"
   ]
  },
  {
   "cell_type": "code",
   "execution_count": 31,
   "metadata": {
    "ExecuteTime": {
     "end_time": "2020-03-30T13:17:10.580748Z",
     "start_time": "2020-03-30T13:17:09.624303Z"
    }
   },
   "outputs": [
    {
     "name": "stdout",
     "output_type": "stream",
     "text": [
      "              precision    recall  f1-score   support\n",
      "\n",
      "           0       0.97      1.00      0.99    538461\n",
      "           1       0.98      0.54      0.70     33153\n",
      "\n",
      "    accuracy                           0.97    571614\n",
      "   macro avg       0.98      0.77      0.84    571614\n",
      "weighted avg       0.97      0.97      0.97    571614\n",
      "\n"
     ]
    }
   ],
   "source": [
    "print(classification_report(y_train,rfc3_pred_train))"
   ]
  },
  {
   "cell_type": "code",
   "execution_count": 32,
   "metadata": {
    "ExecuteTime": {
     "end_time": "2020-03-30T13:17:10.967744Z",
     "start_time": "2020-03-30T13:17:10.581743Z"
    }
   },
   "outputs": [
    {
     "name": "stdout",
     "output_type": "stream",
     "text": [
      "              precision    recall  f1-score   support\n",
      "\n",
      "           0       0.97      1.00      0.99    230233\n",
      "           1       0.98      0.54      0.69     14745\n",
      "\n",
      "    accuracy                           0.97    244978\n",
      "   macro avg       0.98      0.77      0.84    244978\n",
      "weighted avg       0.97      0.97      0.97    244978\n",
      "\n"
     ]
    }
   ],
   "source": [
    "print(classification_report(y_test,rfc3_pred_test))"
   ]
  },
  {
   "cell_type": "code",
   "execution_count": null,
   "metadata": {},
   "outputs": [],
   "source": []
  },
  {
   "cell_type": "markdown",
   "metadata": {},
   "source": [
    "# Feature importance"
   ]
  },
  {
   "cell_type": "code",
   "execution_count": 33,
   "metadata": {
    "ExecuteTime": {
     "end_time": "2020-03-30T13:17:12.863625Z",
     "start_time": "2020-03-30T13:17:10.969708Z"
    }
   },
   "outputs": [],
   "source": [
    "import warnings\n",
    "warnings.filterwarnings('ignore')\n",
    "from eli5 import show_weights\n",
    "from eli5.sklearn import PermutationImportance"
   ]
  },
  {
   "cell_type": "markdown",
   "metadata": {
    "ExecuteTime": {
     "start_time": "2020-03-30T12:40:33.712Z"
    }
   },
   "source": [
    "rfc.fit(X_train, y_train)\n",
    "perm = PermutationImportance(rfc, random_state=101).fit(X_test, y_test)\n",
    "show_weights(perm, feature_names = list(X_test.columns))"
   ]
  },
  {
   "cell_type": "code",
   "execution_count": null,
   "metadata": {},
   "outputs": [],
   "source": []
  },
  {
   "cell_type": "markdown",
   "metadata": {},
   "source": [
    "# Feature Importances - SHAP (SHapely Additive exPlanations)"
   ]
  },
  {
   "cell_type": "code",
   "execution_count": 20,
   "metadata": {
    "ExecuteTime": {
     "end_time": "2020-03-30T16:08:47.761049Z",
     "start_time": "2020-03-30T16:08:47.666760Z"
    }
   },
   "outputs": [],
   "source": [
    "df_DFI = df_cleancoll[['collection_recovery_fee', 'last_pymnt_amnt', 'last_pymnt_d_2015-10-01', 'last_pymnt_d_2015-11-01', 'last_pymnt_d_2015-09-01', 'last_pymnt_d_2015-12-01','next_pymnt_d_2015-10-01','next_pymnt_d_2015-11-01','flag_bad_loan']].copy()"
   ]
  },
  {
   "cell_type": "code",
   "execution_count": 21,
   "metadata": {
    "ExecuteTime": {
     "end_time": "2020-03-30T16:08:48.776263Z",
     "start_time": "2020-03-30T16:08:48.758308Z"
    }
   },
   "outputs": [
    {
     "data": {
      "text/html": [
       "<div>\n",
       "<style scoped>\n",
       "    .dataframe tbody tr th:only-of-type {\n",
       "        vertical-align: middle;\n",
       "    }\n",
       "\n",
       "    .dataframe tbody tr th {\n",
       "        vertical-align: top;\n",
       "    }\n",
       "\n",
       "    .dataframe thead th {\n",
       "        text-align: right;\n",
       "    }\n",
       "</style>\n",
       "<table border=\"1\" class=\"dataframe\">\n",
       "  <thead>\n",
       "    <tr style=\"text-align: right;\">\n",
       "      <th></th>\n",
       "      <th>collection_recovery_fee</th>\n",
       "      <th>last_pymnt_amnt</th>\n",
       "      <th>last_pymnt_d_2015-10-01</th>\n",
       "      <th>last_pymnt_d_2015-11-01</th>\n",
       "      <th>last_pymnt_d_2015-09-01</th>\n",
       "      <th>last_pymnt_d_2015-12-01</th>\n",
       "      <th>next_pymnt_d_2015-10-01</th>\n",
       "      <th>next_pymnt_d_2015-11-01</th>\n",
       "      <th>flag_bad_loan</th>\n",
       "    </tr>\n",
       "  </thead>\n",
       "  <tbody>\n",
       "    <tr>\n",
       "      <td>0</td>\n",
       "      <td>0.0</td>\n",
       "      <td>885.46</td>\n",
       "      <td>0</td>\n",
       "      <td>0</td>\n",
       "      <td>0</td>\n",
       "      <td>0</td>\n",
       "      <td>0</td>\n",
       "      <td>0</td>\n",
       "      <td>0</td>\n",
       "    </tr>\n",
       "    <tr>\n",
       "      <td>1</td>\n",
       "      <td>0.0</td>\n",
       "      <td>333.14</td>\n",
       "      <td>0</td>\n",
       "      <td>0</td>\n",
       "      <td>0</td>\n",
       "      <td>0</td>\n",
       "      <td>0</td>\n",
       "      <td>0</td>\n",
       "      <td>0</td>\n",
       "    </tr>\n",
       "    <tr>\n",
       "      <td>2</td>\n",
       "      <td>0.0</td>\n",
       "      <td>368.45</td>\n",
       "      <td>0</td>\n",
       "      <td>0</td>\n",
       "      <td>0</td>\n",
       "      <td>0</td>\n",
       "      <td>0</td>\n",
       "      <td>0</td>\n",
       "      <td>0</td>\n",
       "    </tr>\n",
       "    <tr>\n",
       "      <td>3</td>\n",
       "      <td>0.0</td>\n",
       "      <td>119.17</td>\n",
       "      <td>0</td>\n",
       "      <td>0</td>\n",
       "      <td>1</td>\n",
       "      <td>0</td>\n",
       "      <td>0</td>\n",
       "      <td>0</td>\n",
       "      <td>0</td>\n",
       "    </tr>\n",
       "    <tr>\n",
       "      <td>4</td>\n",
       "      <td>0.0</td>\n",
       "      <td>476.30</td>\n",
       "      <td>0</td>\n",
       "      <td>0</td>\n",
       "      <td>0</td>\n",
       "      <td>0</td>\n",
       "      <td>0</td>\n",
       "      <td>0</td>\n",
       "      <td>0</td>\n",
       "    </tr>\n",
       "  </tbody>\n",
       "</table>\n",
       "</div>"
      ],
      "text/plain": [
       "   collection_recovery_fee  last_pymnt_amnt  last_pymnt_d_2015-10-01  \\\n",
       "0                      0.0           885.46                        0   \n",
       "1                      0.0           333.14                        0   \n",
       "2                      0.0           368.45                        0   \n",
       "3                      0.0           119.17                        0   \n",
       "4                      0.0           476.30                        0   \n",
       "\n",
       "   last_pymnt_d_2015-11-01  last_pymnt_d_2015-09-01  last_pymnt_d_2015-12-01  \\\n",
       "0                        0                        0                        0   \n",
       "1                        0                        0                        0   \n",
       "2                        0                        0                        0   \n",
       "3                        0                        1                        0   \n",
       "4                        0                        0                        0   \n",
       "\n",
       "   next_pymnt_d_2015-10-01  next_pymnt_d_2015-11-01  flag_bad_loan  \n",
       "0                        0                        0              0  \n",
       "1                        0                        0              0  \n",
       "2                        0                        0              0  \n",
       "3                        0                        0              0  \n",
       "4                        0                        0              0  "
      ]
     },
     "execution_count": 21,
     "metadata": {},
     "output_type": "execute_result"
    }
   ],
   "source": [
    "df_DFI.head()"
   ]
  },
  {
   "cell_type": "code",
   "execution_count": 22,
   "metadata": {
    "ExecuteTime": {
     "end_time": "2020-03-30T16:08:50.787758Z",
     "start_time": "2020-03-30T16:08:50.747868Z"
    }
   },
   "outputs": [],
   "source": [
    "X_DFI = df_DFI.drop('flag_bad_loan',axis=1)\n",
    "y_DFI = df_DFI['flag_bad_loan']"
   ]
  },
  {
   "cell_type": "code",
   "execution_count": 23,
   "metadata": {
    "ExecuteTime": {
     "end_time": "2020-03-30T16:08:53.137973Z",
     "start_time": "2020-03-30T16:08:52.936485Z"
    }
   },
   "outputs": [],
   "source": [
    "X_train_DFI, X_test_DFI, y_train_DFI, y_test_DFI = train_test_split(X_DFI, y_DFI, test_size=0.30, random_state=101)"
   ]
  },
  {
   "cell_type": "code",
   "execution_count": 24,
   "metadata": {
    "ExecuteTime": {
     "end_time": "2020-03-30T16:12:37.128808Z",
     "start_time": "2020-03-30T16:08:54.035783Z"
    }
   },
   "outputs": [
    {
     "data": {
      "text/plain": [
       "RandomForestClassifier(bootstrap=True, ccp_alpha=0.0, class_weight=None,\n",
       "                       criterion='gini', max_depth=None, max_features='auto',\n",
       "                       max_leaf_nodes=None, max_samples=None,\n",
       "                       min_impurity_decrease=0.0, min_impurity_split=None,\n",
       "                       min_samples_leaf=1, min_samples_split=2,\n",
       "                       min_weight_fraction_leaf=0.0, n_estimators=100,\n",
       "                       n_jobs=None, oob_score=False, random_state=None,\n",
       "                       verbose=0, warm_start=False)"
      ]
     },
     "execution_count": 24,
     "metadata": {},
     "output_type": "execute_result"
    }
   ],
   "source": [
    "rfc_DFI = RandomForestClassifier()\n",
    "rfc_DFI.fit(X_train_DFI, y_train_DFI)"
   ]
  },
  {
   "cell_type": "code",
   "execution_count": 25,
   "metadata": {
    "ExecuteTime": {
     "end_time": "2020-03-30T16:13:36.814997Z",
     "start_time": "2020-03-30T16:13:10.030473Z"
    }
   },
   "outputs": [],
   "source": [
    "rfc_pred_train_DFI = rfc_DFI.predict(X_train_DFI)\n",
    "rfc_pred_test_DFI = rfc_DFI.predict(X_test_DFI)"
   ]
  },
  {
   "cell_type": "code",
   "execution_count": 26,
   "metadata": {
    "ExecuteTime": {
     "end_time": "2020-03-30T16:13:37.982870Z",
     "start_time": "2020-03-30T16:13:36.815986Z"
    }
   },
   "outputs": [
    {
     "name": "stdout",
     "output_type": "stream",
     "text": [
      "              precision    recall  f1-score   support\n",
      "\n",
      "           0       0.98      1.00      0.99    538461\n",
      "           1       0.98      0.63      0.77     33153\n",
      "\n",
      "    accuracy                           0.98    571614\n",
      "   macro avg       0.98      0.82      0.88    571614\n",
      "weighted avg       0.98      0.98      0.98    571614\n",
      "\n"
     ]
    }
   ],
   "source": [
    "from sklearn.metrics import classification_report, confusion_matrix\n",
    "print(classification_report(y_train_DFI,rfc_pred_train_DFI))"
   ]
  },
  {
   "cell_type": "code",
   "execution_count": 27,
   "metadata": {
    "ExecuteTime": {
     "end_time": "2020-03-30T16:13:38.403742Z",
     "start_time": "2020-03-30T16:13:37.985862Z"
    }
   },
   "outputs": [
    {
     "name": "stdout",
     "output_type": "stream",
     "text": [
      "              precision    recall  f1-score   support\n",
      "\n",
      "           0       0.97      0.99      0.98    230233\n",
      "           1       0.81      0.54      0.65     14745\n",
      "\n",
      "    accuracy                           0.96    244978\n",
      "   macro avg       0.89      0.77      0.81    244978\n",
      "weighted avg       0.96      0.96      0.96    244978\n",
      "\n"
     ]
    }
   ],
   "source": [
    "print(classification_report(y_test_DFI,rfc_pred_test_DFI))"
   ]
  },
  {
   "cell_type": "code",
   "execution_count": 28,
   "metadata": {
    "ExecuteTime": {
     "end_time": "2020-03-30T16:20:51.370152Z",
     "start_time": "2020-03-30T16:20:50.920064Z"
    }
   },
   "outputs": [],
   "source": [
    "import pickle\n",
    "\n",
    "filename='loan_rfc_model_DFI.sav'\n",
    "pickle.dump(rfc_DFI, open(filename,'wb'))"
   ]
  },
  {
   "cell_type": "code",
   "execution_count": 29,
   "metadata": {
    "ExecuteTime": {
     "end_time": "2020-03-30T16:21:26.740229Z",
     "start_time": "2020-03-30T16:21:25.583321Z"
    }
   },
   "outputs": [],
   "source": [
    "import pickle\n",
    "\n",
    "filename='loan_rfc_model.sav'\n",
    "pickle.dump(rfc, open(filename,'wb'))"
   ]
  },
  {
   "cell_type": "code",
   "execution_count": null,
   "metadata": {},
   "outputs": [],
   "source": []
  }
 ],
 "metadata": {
  "kernelspec": {
   "display_name": "Python 3",
   "language": "python",
   "name": "python3"
  },
  "language_info": {
   "codemirror_mode": {
    "name": "ipython",
    "version": 3
   },
   "file_extension": ".py",
   "mimetype": "text/x-python",
   "name": "python",
   "nbconvert_exporter": "python",
   "pygments_lexer": "ipython3",
   "version": "3.7.4"
  }
 },
 "nbformat": 4,
 "nbformat_minor": 2
}
