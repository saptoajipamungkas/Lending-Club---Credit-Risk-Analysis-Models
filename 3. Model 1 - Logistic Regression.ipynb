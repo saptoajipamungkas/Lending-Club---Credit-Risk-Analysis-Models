{
 "cells": [
  {
   "cell_type": "code",
   "execution_count": 1,
   "metadata": {
    "ExecuteTime": {
     "end_time": "2020-03-30T09:08:06.495550Z",
     "start_time": "2020-03-30T09:08:03.273071Z"
    }
   },
   "outputs": [],
   "source": [
    "import pandas as pd\n",
    "import numpy as np\n",
    "import seaborn as sns\n",
    "import matplotlib.pyplot as plt"
   ]
  },
  {
   "cell_type": "code",
   "execution_count": 2,
   "metadata": {
    "ExecuteTime": {
     "end_time": "2020-03-30T09:08:25.400950Z",
     "start_time": "2020-03-30T09:08:16.958525Z"
    }
   },
   "outputs": [],
   "source": [
    "df_cleancoll = pd.read_csv('cleanVIF_loan_test4.csv')"
   ]
  },
  {
   "cell_type": "code",
   "execution_count": 3,
   "metadata": {
    "ExecuteTime": {
     "end_time": "2020-03-30T09:08:27.275958Z",
     "start_time": "2020-03-30T09:08:27.240054Z"
    }
   },
   "outputs": [
    {
     "data": {
      "text/html": [
       "<div>\n",
       "<style scoped>\n",
       "    .dataframe tbody tr th:only-of-type {\n",
       "        vertical-align: middle;\n",
       "    }\n",
       "\n",
       "    .dataframe tbody tr th {\n",
       "        vertical-align: top;\n",
       "    }\n",
       "\n",
       "    .dataframe thead th {\n",
       "        text-align: right;\n",
       "    }\n",
       "</style>\n",
       "<table border=\"1\" class=\"dataframe\">\n",
       "  <thead>\n",
       "    <tr style=\"text-align: right;\">\n",
       "      <th></th>\n",
       "      <th>sub_grade_A1</th>\n",
       "      <th>sub_grade_A2</th>\n",
       "      <th>sub_grade_A3</th>\n",
       "      <th>sub_grade_A4</th>\n",
       "      <th>sub_grade_A5</th>\n",
       "      <th>sub_grade_B1</th>\n",
       "      <th>sub_grade_B2</th>\n",
       "      <th>sub_grade_B3</th>\n",
       "      <th>sub_grade_B4</th>\n",
       "      <th>sub_grade_B5</th>\n",
       "      <th>...</th>\n",
       "      <th>mths_since_last_record</th>\n",
       "      <th>pub_rec</th>\n",
       "      <th>revol_bal</th>\n",
       "      <th>collection_recovery_fee</th>\n",
       "      <th>last_pymnt_amnt</th>\n",
       "      <th>collections_12_mths_ex_med</th>\n",
       "      <th>tot_coll_amt</th>\n",
       "      <th>tot_cur_bal</th>\n",
       "      <th>total_rev_hi_lim</th>\n",
       "      <th>flag_bad_loan</th>\n",
       "    </tr>\n",
       "  </thead>\n",
       "  <tbody>\n",
       "    <tr>\n",
       "      <td>0</td>\n",
       "      <td>0</td>\n",
       "      <td>0</td>\n",
       "      <td>0</td>\n",
       "      <td>0</td>\n",
       "      <td>0</td>\n",
       "      <td>0</td>\n",
       "      <td>1</td>\n",
       "      <td>0</td>\n",
       "      <td>0</td>\n",
       "      <td>0</td>\n",
       "      <td>...</td>\n",
       "      <td>0.0</td>\n",
       "      <td>0.0</td>\n",
       "      <td>36638.0</td>\n",
       "      <td>0.0</td>\n",
       "      <td>885.46</td>\n",
       "      <td>0.0</td>\n",
       "      <td>0.0</td>\n",
       "      <td>114834.0</td>\n",
       "      <td>59900.0</td>\n",
       "      <td>0</td>\n",
       "    </tr>\n",
       "    <tr>\n",
       "      <td>1</td>\n",
       "      <td>0</td>\n",
       "      <td>0</td>\n",
       "      <td>0</td>\n",
       "      <td>0</td>\n",
       "      <td>0</td>\n",
       "      <td>0</td>\n",
       "      <td>0</td>\n",
       "      <td>0</td>\n",
       "      <td>0</td>\n",
       "      <td>0</td>\n",
       "      <td>...</td>\n",
       "      <td>0.0</td>\n",
       "      <td>0.0</td>\n",
       "      <td>7967.0</td>\n",
       "      <td>0.0</td>\n",
       "      <td>333.14</td>\n",
       "      <td>0.0</td>\n",
       "      <td>0.0</td>\n",
       "      <td>14123.0</td>\n",
       "      <td>15100.0</td>\n",
       "      <td>0</td>\n",
       "    </tr>\n",
       "    <tr>\n",
       "      <td>2</td>\n",
       "      <td>0</td>\n",
       "      <td>1</td>\n",
       "      <td>0</td>\n",
       "      <td>0</td>\n",
       "      <td>0</td>\n",
       "      <td>0</td>\n",
       "      <td>0</td>\n",
       "      <td>0</td>\n",
       "      <td>0</td>\n",
       "      <td>0</td>\n",
       "      <td>...</td>\n",
       "      <td>0.0</td>\n",
       "      <td>0.0</td>\n",
       "      <td>13168.0</td>\n",
       "      <td>0.0</td>\n",
       "      <td>368.45</td>\n",
       "      <td>0.0</td>\n",
       "      <td>0.0</td>\n",
       "      <td>267646.0</td>\n",
       "      <td>61100.0</td>\n",
       "      <td>0</td>\n",
       "    </tr>\n",
       "    <tr>\n",
       "      <td>3</td>\n",
       "      <td>0</td>\n",
       "      <td>0</td>\n",
       "      <td>0</td>\n",
       "      <td>0</td>\n",
       "      <td>0</td>\n",
       "      <td>0</td>\n",
       "      <td>0</td>\n",
       "      <td>0</td>\n",
       "      <td>0</td>\n",
       "      <td>1</td>\n",
       "      <td>...</td>\n",
       "      <td>33.0</td>\n",
       "      <td>2.0</td>\n",
       "      <td>5572.0</td>\n",
       "      <td>0.0</td>\n",
       "      <td>119.17</td>\n",
       "      <td>0.0</td>\n",
       "      <td>15386.0</td>\n",
       "      <td>13605.0</td>\n",
       "      <td>8100.0</td>\n",
       "      <td>0</td>\n",
       "    </tr>\n",
       "    <tr>\n",
       "      <td>4</td>\n",
       "      <td>0</td>\n",
       "      <td>0</td>\n",
       "      <td>0</td>\n",
       "      <td>0</td>\n",
       "      <td>1</td>\n",
       "      <td>0</td>\n",
       "      <td>0</td>\n",
       "      <td>0</td>\n",
       "      <td>0</td>\n",
       "      <td>0</td>\n",
       "      <td>...</td>\n",
       "      <td>0.0</td>\n",
       "      <td>0.0</td>\n",
       "      <td>11431.0</td>\n",
       "      <td>0.0</td>\n",
       "      <td>476.30</td>\n",
       "      <td>0.0</td>\n",
       "      <td>1514.0</td>\n",
       "      <td>272492.0</td>\n",
       "      <td>15400.0</td>\n",
       "      <td>0</td>\n",
       "    </tr>\n",
       "  </tbody>\n",
       "</table>\n",
       "<p>5 rows × 152 columns</p>\n",
       "</div>"
      ],
      "text/plain": [
       "   sub_grade_A1  sub_grade_A2  sub_grade_A3  sub_grade_A4  sub_grade_A5  \\\n",
       "0             0             0             0             0             0   \n",
       "1             0             0             0             0             0   \n",
       "2             0             1             0             0             0   \n",
       "3             0             0             0             0             0   \n",
       "4             0             0             0             0             1   \n",
       "\n",
       "   sub_grade_B1  sub_grade_B2  sub_grade_B3  sub_grade_B4  sub_grade_B5  ...  \\\n",
       "0             0             1             0             0             0  ...   \n",
       "1             0             0             0             0             0  ...   \n",
       "2             0             0             0             0             0  ...   \n",
       "3             0             0             0             0             1  ...   \n",
       "4             0             0             0             0             0  ...   \n",
       "\n",
       "   mths_since_last_record  pub_rec  revol_bal  collection_recovery_fee  \\\n",
       "0                     0.0      0.0    36638.0                      0.0   \n",
       "1                     0.0      0.0     7967.0                      0.0   \n",
       "2                     0.0      0.0    13168.0                      0.0   \n",
       "3                    33.0      2.0     5572.0                      0.0   \n",
       "4                     0.0      0.0    11431.0                      0.0   \n",
       "\n",
       "   last_pymnt_amnt  collections_12_mths_ex_med  tot_coll_amt  tot_cur_bal  \\\n",
       "0           885.46                         0.0           0.0     114834.0   \n",
       "1           333.14                         0.0           0.0      14123.0   \n",
       "2           368.45                         0.0           0.0     267646.0   \n",
       "3           119.17                         0.0       15386.0      13605.0   \n",
       "4           476.30                         0.0        1514.0     272492.0   \n",
       "\n",
       "   total_rev_hi_lim  flag_bad_loan  \n",
       "0           59900.0              0  \n",
       "1           15100.0              0  \n",
       "2           61100.0              0  \n",
       "3            8100.0              0  \n",
       "4           15400.0              0  \n",
       "\n",
       "[5 rows x 152 columns]"
      ]
     },
     "execution_count": 3,
     "metadata": {},
     "output_type": "execute_result"
    }
   ],
   "source": [
    "df_cleancoll.head()"
   ]
  },
  {
   "cell_type": "markdown",
   "metadata": {},
   "source": [
    "## 5. MODELLING"
   ]
  },
  {
   "cell_type": "markdown",
   "metadata": {},
   "source": [
    "#### Train Test Split"
   ]
  },
  {
   "cell_type": "code",
   "execution_count": 5,
   "metadata": {
    "ExecuteTime": {
     "end_time": "2020-03-30T09:12:47.204446Z",
     "start_time": "2020-03-30T09:12:47.011930Z"
    }
   },
   "outputs": [],
   "source": [
    "from sklearn.model_selection import train_test_split"
   ]
  },
  {
   "cell_type": "code",
   "execution_count": 6,
   "metadata": {
    "ExecuteTime": {
     "end_time": "2020-03-30T09:12:55.470025Z",
     "start_time": "2020-03-30T09:12:54.335096Z"
    }
   },
   "outputs": [],
   "source": [
    "X = df_cleancoll.drop('flag_bad_loan',axis=1)\n",
    "y = df_cleancoll['flag_bad_loan']"
   ]
  },
  {
   "cell_type": "code",
   "execution_count": 7,
   "metadata": {
    "ExecuteTime": {
     "end_time": "2020-03-30T09:13:05.128876Z",
     "start_time": "2020-03-30T09:13:02.909811Z"
    }
   },
   "outputs": [],
   "source": [
    "X_train, X_test, y_train, y_test = train_test_split(X, y, test_size=0.30, random_state=101)"
   ]
  },
  {
   "cell_type": "code",
   "execution_count": 8,
   "metadata": {
    "ExecuteTime": {
     "end_time": "2020-03-30T09:13:11.180057Z",
     "start_time": "2020-03-30T09:13:09.931397Z"
    }
   },
   "outputs": [],
   "source": [
    "data = df_cleancoll.drop('flag_bad_loan', axis =1)\n",
    "target = df_cleancoll['flag_bad_loan']"
   ]
  },
  {
   "cell_type": "markdown",
   "metadata": {},
   "source": [
    "#### Logistic Regression"
   ]
  },
  {
   "cell_type": "markdown",
   "metadata": {},
   "source": [
    "Normal X_train"
   ]
  },
  {
   "cell_type": "code",
   "execution_count": 9,
   "metadata": {
    "ExecuteTime": {
     "end_time": "2020-03-30T09:14:05.269760Z",
     "start_time": "2020-03-30T09:14:05.108999Z"
    }
   },
   "outputs": [],
   "source": [
    "from sklearn.linear_model import LogisticRegression"
   ]
  },
  {
   "cell_type": "code",
   "execution_count": 10,
   "metadata": {
    "ExecuteTime": {
     "end_time": "2020-03-30T09:14:38.709274Z",
     "start_time": "2020-03-30T09:14:12.360639Z"
    }
   },
   "outputs": [
    {
     "name": "stderr",
     "output_type": "stream",
     "text": [
      "C:\\Users\\User\\Anaconda3\\lib\\site-packages\\sklearn\\linear_model\\_logistic.py:940: ConvergenceWarning: lbfgs failed to converge (status=1):\n",
      "STOP: TOTAL NO. of ITERATIONS REACHED LIMIT.\n",
      "\n",
      "Increase the number of iterations (max_iter) or scale the data as shown in:\n",
      "    https://scikit-learn.org/stable/modules/preprocessing.html\n",
      "Please also refer to the documentation for alternative solver options:\n",
      "    https://scikit-learn.org/stable/modules/linear_model.html#logistic-regression\n",
      "  extra_warning_msg=_LOGISTIC_SOLVER_CONVERGENCE_MSG)\n"
     ]
    },
    {
     "data": {
      "text/plain": [
       "LogisticRegression(C=1.0, class_weight=None, dual=False, fit_intercept=True,\n",
       "                   intercept_scaling=1, l1_ratio=None, max_iter=100,\n",
       "                   multi_class='auto', n_jobs=None, penalty='l2',\n",
       "                   random_state=None, solver='lbfgs', tol=0.0001, verbose=0,\n",
       "                   warm_start=False)"
      ]
     },
     "execution_count": 10,
     "metadata": {},
     "output_type": "execute_result"
    }
   ],
   "source": [
    "logmodel = LogisticRegression()\n",
    "logmodel.fit(X_train,y_train)"
   ]
  },
  {
   "cell_type": "code",
   "execution_count": 21,
   "metadata": {
    "ExecuteTime": {
     "end_time": "2020-03-30T09:18:18.629764Z",
     "start_time": "2020-03-30T09:18:17.510759Z"
    }
   },
   "outputs": [],
   "source": [
    "predictions_train = logmodel.predict(X_train)\n",
    "predictions_test = logmodel.predict(X_test)\n",
    "PredictProba = logmodel.predict_proba(X_test)"
   ]
  },
  {
   "cell_type": "code",
   "execution_count": 22,
   "metadata": {
    "ExecuteTime": {
     "end_time": "2020-03-30T09:18:18.732496Z",
     "start_time": "2020-03-30T09:18:18.631761Z"
    }
   },
   "outputs": [],
   "source": [
    "adjustpredictions = []\n",
    "for pred in PredictProba[:,0]:\n",
    "    if (pred>0.30):\n",
    "        adjustpredictions.append(0)\n",
    "    else:\n",
    "        adjustpredictions.append(1) "
   ]
  },
  {
   "cell_type": "code",
   "execution_count": 23,
   "metadata": {
    "ExecuteTime": {
     "end_time": "2020-03-30T09:18:18.739471Z",
     "start_time": "2020-03-30T09:18:18.734484Z"
    }
   },
   "outputs": [],
   "source": [
    "from sklearn.metrics import classification_report, confusion_matrix, accuracy_score, matthews_corrcoef, log_loss"
   ]
  },
  {
   "cell_type": "code",
   "execution_count": 24,
   "metadata": {
    "ExecuteTime": {
     "end_time": "2020-03-30T09:18:19.850001Z",
     "start_time": "2020-03-30T09:18:18.863648Z"
    }
   },
   "outputs": [
    {
     "name": "stdout",
     "output_type": "stream",
     "text": [
      "              precision    recall  f1-score   support\n",
      "\n",
      "           0       0.96      1.00      0.98    538461\n",
      "           1       1.00      0.28      0.44     33153\n",
      "\n",
      "    accuracy                           0.96    571614\n",
      "   macro avg       0.98      0.64      0.71    571614\n",
      "weighted avg       0.96      0.96      0.95    571614\n",
      "\n"
     ]
    }
   ],
   "source": [
    "print(classification_report(y_train,predictions_train))"
   ]
  },
  {
   "cell_type": "code",
   "execution_count": 25,
   "metadata": {
    "ExecuteTime": {
     "end_time": "2020-03-30T09:18:20.271908Z",
     "start_time": "2020-03-30T09:18:19.851997Z"
    }
   },
   "outputs": [
    {
     "name": "stdout",
     "output_type": "stream",
     "text": [
      "              precision    recall  f1-score   support\n",
      "\n",
      "           0       0.96      1.00      0.98    230233\n",
      "           1       1.00      0.29      0.45     14745\n",
      "\n",
      "    accuracy                           0.96    244978\n",
      "   macro avg       0.98      0.64      0.71    244978\n",
      "weighted avg       0.96      0.96      0.95    244978\n",
      "\n"
     ]
    }
   ],
   "source": [
    "print(classification_report(y_test,predictions_test))"
   ]
  },
  {
   "cell_type": "code",
   "execution_count": 26,
   "metadata": {
    "ExecuteTime": {
     "end_time": "2020-03-30T09:18:20.715718Z",
     "start_time": "2020-03-30T09:18:20.274870Z"
    }
   },
   "outputs": [
    {
     "name": "stdout",
     "output_type": "stream",
     "text": [
      "              precision    recall  f1-score   support\n",
      "\n",
      "           0       0.95      1.00      0.98    230233\n",
      "           1       1.00      0.26      0.41     14745\n",
      "\n",
      "    accuracy                           0.96    244978\n",
      "   macro avg       0.98      0.63      0.70    244978\n",
      "weighted avg       0.96      0.96      0.94    244978\n",
      "\n"
     ]
    }
   ],
   "source": [
    "print(classification_report(y_test,adjustpredictions))"
   ]
  },
  {
   "cell_type": "code",
   "execution_count": null,
   "metadata": {},
   "outputs": [],
   "source": []
  },
  {
   "cell_type": "markdown",
   "metadata": {},
   "source": [
    "Oversampled X_train"
   ]
  },
  {
   "cell_type": "code",
   "execution_count": 27,
   "metadata": {
    "ExecuteTime": {
     "end_time": "2020-03-30T09:19:52.338405Z",
     "start_time": "2020-03-30T09:19:30.245880Z"
    }
   },
   "outputs": [],
   "source": [
    "from imblearn.over_sampling import SMOTE\n",
    "sm = SMOTE(sampling_strategy='minority')\n",
    "\n",
    "oversampled_trainX, oversampled_trainY = sm.fit_sample(X_train, y_train)\n",
    "oversampled_train = pd.concat([pd.DataFrame(oversampled_trainY), pd.DataFrame(oversampled_trainX)], axis =1)"
   ]
  },
  {
   "cell_type": "code",
   "execution_count": 28,
   "metadata": {
    "ExecuteTime": {
     "end_time": "2020-03-30T09:20:52.522597Z",
     "start_time": "2020-03-30T09:20:13.299472Z"
    }
   },
   "outputs": [
    {
     "name": "stderr",
     "output_type": "stream",
     "text": [
      "C:\\Users\\User\\Anaconda3\\lib\\site-packages\\sklearn\\linear_model\\_logistic.py:940: ConvergenceWarning: lbfgs failed to converge (status=1):\n",
      "STOP: TOTAL NO. of ITERATIONS REACHED LIMIT.\n",
      "\n",
      "Increase the number of iterations (max_iter) or scale the data as shown in:\n",
      "    https://scikit-learn.org/stable/modules/preprocessing.html\n",
      "Please also refer to the documentation for alternative solver options:\n",
      "    https://scikit-learn.org/stable/modules/linear_model.html#logistic-regression\n",
      "  extra_warning_msg=_LOGISTIC_SOLVER_CONVERGENCE_MSG)\n"
     ]
    },
    {
     "data": {
      "text/plain": [
       "LogisticRegression(C=1.0, class_weight=None, dual=False, fit_intercept=True,\n",
       "                   intercept_scaling=1, l1_ratio=None, max_iter=100,\n",
       "                   multi_class='auto', n_jobs=None, penalty='l2',\n",
       "                   random_state=None, solver='lbfgs', tol=0.0001, verbose=0,\n",
       "                   warm_start=False)"
      ]
     },
     "execution_count": 28,
     "metadata": {},
     "output_type": "execute_result"
    }
   ],
   "source": [
    "logmodel_os = LogisticRegression()\n",
    "logmodel_os.fit(oversampled_trainX, oversampled_trainY)"
   ]
  },
  {
   "cell_type": "code",
   "execution_count": 32,
   "metadata": {
    "ExecuteTime": {
     "end_time": "2020-03-30T09:24:12.607491Z",
     "start_time": "2020-03-30T09:24:10.881084Z"
    }
   },
   "outputs": [],
   "source": [
    "logmodel_pred_ostrain = logmodel_os.predict(oversampled_trainX)\n",
    "logmodel_pred_ostest = logmodel_os.predict(X_test)\n",
    "logmodel_predproba_ostest = logmodel_os.predict_proba(X_test)"
   ]
  },
  {
   "cell_type": "code",
   "execution_count": 41,
   "metadata": {
    "ExecuteTime": {
     "end_time": "2020-03-30T09:24:40.866002Z",
     "start_time": "2020-03-30T09:24:40.764190Z"
    }
   },
   "outputs": [],
   "source": [
    "adjustpredictions_os = []\n",
    "for pred in logmodel_predproba_ostest[:,0]:\n",
    "    if (pred>0.05):\n",
    "        adjustpredictions_os.append(0)\n",
    "    else:\n",
    "        adjustpredictions_os.append(1) "
   ]
  },
  {
   "cell_type": "code",
   "execution_count": 42,
   "metadata": {
    "ExecuteTime": {
     "end_time": "2020-03-30T09:24:43.103242Z",
     "start_time": "2020-03-30T09:24:40.956979Z"
    }
   },
   "outputs": [
    {
     "name": "stdout",
     "output_type": "stream",
     "text": [
      "              precision    recall  f1-score   support\n",
      "\n",
      "           0       0.70      0.82      0.76    538461\n",
      "           1       0.78      0.65      0.71    538461\n",
      "\n",
      "    accuracy                           0.74   1076922\n",
      "   macro avg       0.74      0.74      0.74   1076922\n",
      "weighted avg       0.74      0.74      0.74   1076922\n",
      "\n"
     ]
    }
   ],
   "source": [
    "print(classification_report(oversampled_trainY,logmodel_pred_ostrain))"
   ]
  },
  {
   "cell_type": "code",
   "execution_count": 43,
   "metadata": {
    "ExecuteTime": {
     "end_time": "2020-03-30T09:24:43.581993Z",
     "start_time": "2020-03-30T09:24:43.105237Z"
    }
   },
   "outputs": [
    {
     "name": "stdout",
     "output_type": "stream",
     "text": [
      "              precision    recall  f1-score   support\n",
      "\n",
      "           0       0.96      0.82      0.89    230233\n",
      "           1       0.16      0.52      0.24     14745\n",
      "\n",
      "    accuracy                           0.80    244978\n",
      "   macro avg       0.56      0.67      0.56    244978\n",
      "weighted avg       0.92      0.80      0.85    244978\n",
      "\n"
     ]
    }
   ],
   "source": [
    "print(classification_report(y_test,logmodel_pred_ostest))"
   ]
  },
  {
   "cell_type": "code",
   "execution_count": 44,
   "metadata": {
    "ExecuteTime": {
     "end_time": "2020-03-30T09:24:44.039946Z",
     "start_time": "2020-03-30T09:24:43.583956Z"
    }
   },
   "outputs": [
    {
     "name": "stdout",
     "output_type": "stream",
     "text": [
      "              precision    recall  f1-score   support\n",
      "\n",
      "           0       0.96      1.00      0.98    230233\n",
      "           1       1.00      0.29      0.46     14745\n",
      "\n",
      "    accuracy                           0.96    244978\n",
      "   macro avg       0.98      0.65      0.72    244978\n",
      "weighted avg       0.96      0.96      0.95    244978\n",
      "\n"
     ]
    }
   ],
   "source": [
    "print(classification_report(y_test,adjustpredictions_os))"
   ]
  },
  {
   "cell_type": "markdown",
   "metadata": {},
   "source": [
    "# 6. EVALUATION"
   ]
  },
  {
   "cell_type": "markdown",
   "metadata": {},
   "source": [
    "## K-Fold Model valuation based on iteration"
   ]
  },
  {
   "cell_type": "code",
   "execution_count": 45,
   "metadata": {
    "ExecuteTime": {
     "end_time": "2020-03-30T09:27:13.282240Z",
     "start_time": "2020-03-30T09:27:11.485049Z"
    }
   },
   "outputs": [],
   "source": [
    "data = df_cleancoll.drop('flag_bad_loan', axis =1)\n",
    "target = df_cleancoll['flag_bad_loan']"
   ]
  },
  {
   "cell_type": "code",
   "execution_count": 54,
   "metadata": {
    "ExecuteTime": {
     "end_time": "2020-03-30T09:30:17.222258Z",
     "start_time": "2020-03-30T09:30:17.206957Z"
    }
   },
   "outputs": [],
   "source": [
    "from sklearn.metrics import classification_report, confusion_matrix, accuracy_score,roc_auc_score, f1_score, log_loss, matthews_corrcoef\n",
    "\n",
    "def calc_train_error(X_train, y_train, model):\n",
    "    predictions =[]\n",
    "    predictProba = model.predict_proba(X_train)\n",
    "    for pred in predictProba[:,0]:\n",
    "        if(pred > 0.10):\n",
    "            predictions.append(0)\n",
    "        else:\n",
    "            predictions.append(1)  \n",
    "    matt = matthews_corrcoef(y_train, predictions)\n",
    "    f1 = f1_score(y_train, predictions, average ='macro')\n",
    "    report = classification_report(y_train, predictions)\n",
    "    roc_auc = roc_auc_score(y_train, predictProba[:, 1])\n",
    "    accuracy = accuracy_score(y_train, predictions)\n",
    "    confMatrix = confusion_matrix(y_train, predictions)\n",
    "    logloss = log_loss(y_train,predictProba)\n",
    "    return{\n",
    "        'report' : report, \n",
    "        'matthew' : matt,\n",
    "        'f1' : f1,\n",
    "        'roc': roc_auc,\n",
    "        'accuracy': accuracy,\n",
    "        'confusion': confMatrix,\n",
    "        'logloss' : logloss\n",
    "    }\n",
    "\n",
    "def calc_validation_error(X_test, y_test, model):\n",
    "    predictions = []\n",
    "    predictProba = model.predict_proba(X_test)\n",
    "    for pred in predictProba[:,0]:\n",
    "        if(pred > 0.10):\n",
    "            predictions.append(0)\n",
    "        else:\n",
    "            predictions.append(1)   \n",
    "    \n",
    "    matt = matthews_corrcoef(y_test, predictions)\n",
    "    f1 = f1_score(y_test, predictions, average ='macro')\n",
    "    report = classification_report(y_test, predictions)\n",
    "    roc_auc = roc_auc_score(y_test, predictProba[:, 1])\n",
    "    accuracy = accuracy_score(y_test, predictions)\n",
    "    confMatrix = confusion_matrix(y_test, predictions)\n",
    "    logloss = log_loss(y_test,predictProba)\n",
    "    return{\n",
    "        'report' : report, \n",
    "        'matthew' : matt,\n",
    "        'f1' : f1,\n",
    "        'roc': roc_auc,\n",
    "        'accuracy': accuracy,\n",
    "        'confusion': confMatrix,\n",
    "        'logloss' : logloss\n",
    "    }\n",
    "\n",
    "def calc_metrics(X_train, y_train, X_test, y_test, model):\n",
    "    model.fit(X_train, y_train)\n",
    "    train_error = calc_train_error(X_train, y_train, model)\n",
    "    validation_error = calc_validation_error(X_test, y_test, model)\n",
    "    return train_error, validation_error"
   ]
  },
  {
   "cell_type": "code",
   "execution_count": 55,
   "metadata": {
    "ExecuteTime": {
     "end_time": "2020-03-30T09:30:17.520408Z",
     "start_time": "2020-03-30T09:30:17.514460Z"
    }
   },
   "outputs": [],
   "source": [
    "from sklearn.model_selection import KFold\n",
    "K = 5\n",
    "kf =KFold(n_splits = K, shuffle = True, random_state = 42)"
   ]
  },
  {
   "cell_type": "code",
   "execution_count": 56,
   "metadata": {
    "ExecuteTime": {
     "end_time": "2020-03-30T09:33:02.116525Z",
     "start_time": "2020-03-30T09:30:17.863586Z"
    }
   },
   "outputs": [
    {
     "name": "stderr",
     "output_type": "stream",
     "text": [
      "C:\\Users\\User\\Anaconda3\\lib\\site-packages\\sklearn\\linear_model\\_logistic.py:940: ConvergenceWarning: lbfgs failed to converge (status=1):\n",
      "STOP: TOTAL NO. of ITERATIONS REACHED LIMIT.\n",
      "\n",
      "Increase the number of iterations (max_iter) or scale the data as shown in:\n",
      "    https://scikit-learn.org/stable/modules/preprocessing.html\n",
      "Please also refer to the documentation for alternative solver options:\n",
      "    https://scikit-learn.org/stable/modules/linear_model.html#logistic-regression\n",
      "  extra_warning_msg=_LOGISTIC_SOLVER_CONVERGENCE_MSG)\n",
      "C:\\Users\\User\\Anaconda3\\lib\\site-packages\\sklearn\\linear_model\\_logistic.py:940: ConvergenceWarning: lbfgs failed to converge (status=1):\n",
      "STOP: TOTAL NO. of ITERATIONS REACHED LIMIT.\n",
      "\n",
      "Increase the number of iterations (max_iter) or scale the data as shown in:\n",
      "    https://scikit-learn.org/stable/modules/preprocessing.html\n",
      "Please also refer to the documentation for alternative solver options:\n",
      "    https://scikit-learn.org/stable/modules/linear_model.html#logistic-regression\n",
      "  extra_warning_msg=_LOGISTIC_SOLVER_CONVERGENCE_MSG)\n",
      "C:\\Users\\User\\Anaconda3\\lib\\site-packages\\sklearn\\linear_model\\_logistic.py:940: ConvergenceWarning: lbfgs failed to converge (status=1):\n",
      "STOP: TOTAL NO. of ITERATIONS REACHED LIMIT.\n",
      "\n",
      "Increase the number of iterations (max_iter) or scale the data as shown in:\n",
      "    https://scikit-learn.org/stable/modules/preprocessing.html\n",
      "Please also refer to the documentation for alternative solver options:\n",
      "    https://scikit-learn.org/stable/modules/linear_model.html#logistic-regression\n",
      "  extra_warning_msg=_LOGISTIC_SOLVER_CONVERGENCE_MSG)\n",
      "C:\\Users\\User\\Anaconda3\\lib\\site-packages\\sklearn\\linear_model\\_logistic.py:940: ConvergenceWarning: lbfgs failed to converge (status=1):\n",
      "STOP: TOTAL NO. of ITERATIONS REACHED LIMIT.\n",
      "\n",
      "Increase the number of iterations (max_iter) or scale the data as shown in:\n",
      "    https://scikit-learn.org/stable/modules/preprocessing.html\n",
      "Please also refer to the documentation for alternative solver options:\n",
      "    https://scikit-learn.org/stable/modules/linear_model.html#logistic-regression\n",
      "  extra_warning_msg=_LOGISTIC_SOLVER_CONVERGENCE_MSG)\n",
      "C:\\Users\\User\\Anaconda3\\lib\\site-packages\\sklearn\\linear_model\\_logistic.py:940: ConvergenceWarning: lbfgs failed to converge (status=1):\n",
      "STOP: TOTAL NO. of ITERATIONS REACHED LIMIT.\n",
      "\n",
      "Increase the number of iterations (max_iter) or scale the data as shown in:\n",
      "    https://scikit-learn.org/stable/modules/preprocessing.html\n",
      "Please also refer to the documentation for alternative solver options:\n",
      "    https://scikit-learn.org/stable/modules/linear_model.html#logistic-regression\n",
      "  extra_warning_msg=_LOGISTIC_SOLVER_CONVERGENCE_MSG)\n"
     ]
    }
   ],
   "source": [
    "train_errors = []\n",
    "validation_errors = []\n",
    "for train_index, val_index in kf.split(data, target):\n",
    "    \n",
    "    #split data\n",
    "    X_train, X_val = data.iloc[train_index], data.iloc[val_index]\n",
    "    y_train, y_val = target.iloc[train_index], target.iloc[val_index]\n",
    "    \n",
    "    #instantiate model\n",
    "    logmodel = LogisticRegression()\n",
    "    \n",
    "    #calculate errors\n",
    "    train_error, val_error = calc_metrics(X_train, y_train, X_val, y_val, logmodel)\n",
    "    \n",
    "    #append to appropiate list\n",
    "    train_errors.append(train_error)\n",
    "    validation_errors.append(val_error)"
   ]
  },
  {
   "cell_type": "markdown",
   "metadata": {},
   "source": [
    "### Model Summary"
   ]
  },
  {
   "cell_type": "code",
   "execution_count": 57,
   "metadata": {
    "ExecuteTime": {
     "end_time": "2020-03-30T09:33:02.221504Z",
     "start_time": "2020-03-30T09:33:02.118494Z"
    }
   },
   "outputs": [
    {
     "data": {
      "text/html": [
       "<div>\n",
       "<style scoped>\n",
       "    .dataframe tbody tr th:only-of-type {\n",
       "        vertical-align: middle;\n",
       "    }\n",
       "\n",
       "    .dataframe tbody tr th {\n",
       "        vertical-align: top;\n",
       "    }\n",
       "\n",
       "    .dataframe thead th {\n",
       "        text-align: right;\n",
       "    }\n",
       "</style>\n",
       "<table border=\"1\" class=\"dataframe\">\n",
       "  <thead>\n",
       "    <tr style=\"text-align: right;\">\n",
       "      <th></th>\n",
       "      <th>Train Accuracy</th>\n",
       "      <th>Test Accuracy</th>\n",
       "      <th>Train ROC AUC</th>\n",
       "      <th>Test ROC AUC</th>\n",
       "      <th>Train F1 Score</th>\n",
       "      <th>Test F1 Score</th>\n",
       "      <th>Train Matthews Corr Coef</th>\n",
       "      <th>Test Matthews Corr Coef</th>\n",
       "      <th>Train Log Loss</th>\n",
       "      <th>Test Log Loss</th>\n",
       "    </tr>\n",
       "  </thead>\n",
       "  <tbody>\n",
       "    <tr>\n",
       "      <td>1 Iteration</td>\n",
       "      <td>0.954959</td>\n",
       "      <td>0.954267</td>\n",
       "      <td>0.744431</td>\n",
       "      <td>0.744480</td>\n",
       "      <td>0.676412</td>\n",
       "      <td>0.669905</td>\n",
       "      <td>0.470203</td>\n",
       "      <td>0.460269</td>\n",
       "      <td>0.181361</td>\n",
       "      <td>0.182063</td>\n",
       "    </tr>\n",
       "    <tr>\n",
       "      <td>2 Iteration</td>\n",
       "      <td>0.954693</td>\n",
       "      <td>0.955749</td>\n",
       "      <td>0.745098</td>\n",
       "      <td>0.741699</td>\n",
       "      <td>0.675900</td>\n",
       "      <td>0.676780</td>\n",
       "      <td>0.469458</td>\n",
       "      <td>0.470643</td>\n",
       "      <td>0.181637</td>\n",
       "      <td>0.180161</td>\n",
       "    </tr>\n",
       "    <tr>\n",
       "      <td>3 Iteration</td>\n",
       "      <td>0.954769</td>\n",
       "      <td>0.954904</td>\n",
       "      <td>0.743407</td>\n",
       "      <td>0.747239</td>\n",
       "      <td>0.674463</td>\n",
       "      <td>0.676306</td>\n",
       "      <td>0.467231</td>\n",
       "      <td>0.470050</td>\n",
       "      <td>0.181972</td>\n",
       "      <td>0.179780</td>\n",
       "    </tr>\n",
       "    <tr>\n",
       "      <td>4 Iteration</td>\n",
       "      <td>0.954745</td>\n",
       "      <td>0.954781</td>\n",
       "      <td>0.743683</td>\n",
       "      <td>0.745887</td>\n",
       "      <td>0.674407</td>\n",
       "      <td>0.673992</td>\n",
       "      <td>0.467148</td>\n",
       "      <td>0.466501</td>\n",
       "      <td>0.181804</td>\n",
       "      <td>0.181577</td>\n",
       "    </tr>\n",
       "    <tr>\n",
       "      <td>5 Iteration</td>\n",
       "      <td>0.954875</td>\n",
       "      <td>0.954365</td>\n",
       "      <td>0.744725</td>\n",
       "      <td>0.741900</td>\n",
       "      <td>0.673655</td>\n",
       "      <td>0.678105</td>\n",
       "      <td>0.465966</td>\n",
       "      <td>0.472904</td>\n",
       "      <td>0.181112</td>\n",
       "      <td>0.184390</td>\n",
       "    </tr>\n",
       "    <tr>\n",
       "      <td>Average</td>\n",
       "      <td>0.954808</td>\n",
       "      <td>0.954813</td>\n",
       "      <td>0.744269</td>\n",
       "      <td>0.744241</td>\n",
       "      <td>0.674967</td>\n",
       "      <td>0.675017</td>\n",
       "      <td>0.468001</td>\n",
       "      <td>0.468073</td>\n",
       "      <td>0.181577</td>\n",
       "      <td>0.181594</td>\n",
       "    </tr>\n",
       "  </tbody>\n",
       "</table>\n",
       "</div>"
      ],
      "text/plain": [
       "             Train Accuracy  Test Accuracy  Train ROC AUC  Test ROC AUC  \\\n",
       "1 Iteration        0.954959       0.954267       0.744431      0.744480   \n",
       "2 Iteration        0.954693       0.955749       0.745098      0.741699   \n",
       "3 Iteration        0.954769       0.954904       0.743407      0.747239   \n",
       "4 Iteration        0.954745       0.954781       0.743683      0.745887   \n",
       "5 Iteration        0.954875       0.954365       0.744725      0.741900   \n",
       "Average            0.954808       0.954813       0.744269      0.744241   \n",
       "\n",
       "             Train F1 Score  Test F1 Score  Train Matthews Corr Coef  \\\n",
       "1 Iteration        0.676412       0.669905                  0.470203   \n",
       "2 Iteration        0.675900       0.676780                  0.469458   \n",
       "3 Iteration        0.674463       0.676306                  0.467231   \n",
       "4 Iteration        0.674407       0.673992                  0.467148   \n",
       "5 Iteration        0.673655       0.678105                  0.465966   \n",
       "Average            0.674967       0.675017                  0.468001   \n",
       "\n",
       "             Test Matthews Corr Coef  Train Log Loss  Test Log Loss  \n",
       "1 Iteration                 0.460269        0.181361       0.182063  \n",
       "2 Iteration                 0.470643        0.181637       0.180161  \n",
       "3 Iteration                 0.470050        0.181972       0.179780  \n",
       "4 Iteration                 0.466501        0.181804       0.181577  \n",
       "5 Iteration                 0.472904        0.181112       0.184390  \n",
       "Average                     0.468073        0.181577       0.181594  "
      ]
     },
     "execution_count": 57,
     "metadata": {},
     "output_type": "execute_result"
    }
   ],
   "source": [
    "matrix = []\n",
    "for i, j in zip(train_errors, validation_errors):\n",
    "    matrix.append([i['accuracy'], j['accuracy'], i['roc'],\n",
    "                   j['roc'], i['f1'], j['f1'], i['matthew'], j['matthew'], i['logloss'], j['logloss']])\n",
    "calc_matrix = pd.DataFrame(matrix, columns = ['Train Accuracy', \n",
    "                                              'Test Accuracy', 'Train ROC AUC', 'Test ROC AUC', 'Train F1 Score', \n",
    "                                'Test F1 Score', 'Train Matthews Corr Coef',\n",
    "                                              'Test Matthews Corr Coef', 'Train Log Loss', 'Test Log Loss'])\n",
    "average = []\n",
    "for i in calc_matrix.columns:\n",
    "    average.append(calc_matrix[i].mean())\n",
    "    \n",
    "average_mat = pd.DataFrame(average).T\n",
    "average_mat.columns = ['Train Accuracy', 'Test Accuracy', 'Train ROC AUC', 'Test ROC AUC', 'Train F1 Score', \n",
    "                                'Test F1 Score', 'Train Matthews Corr Coef',\n",
    "                       'Test Matthews Corr Coef' , 'Train Log Loss', 'Test Log Loss']\n",
    "index_label = []\n",
    "for i in range(1, len(calc_matrix)+1):\n",
    "    index_label.append(f'{i} Iteration')\n",
    "index_label.append('Average')    \n",
    "calculation = pd.concat([calc_matrix, average_mat])\n",
    "calculation.index = index_label\n",
    "calculation"
   ]
  },
  {
   "cell_type": "code",
   "execution_count": null,
   "metadata": {},
   "outputs": [],
   "source": []
  }
 ],
 "metadata": {
  "kernelspec": {
   "display_name": "Python 3",
   "language": "python",
   "name": "python3"
  },
  "language_info": {
   "codemirror_mode": {
    "name": "ipython",
    "version": 3
   },
   "file_extension": ".py",
   "mimetype": "text/x-python",
   "name": "python",
   "nbconvert_exporter": "python",
   "pygments_lexer": "ipython3",
   "version": "3.7.4"
  }
 },
 "nbformat": 4,
 "nbformat_minor": 2
}
